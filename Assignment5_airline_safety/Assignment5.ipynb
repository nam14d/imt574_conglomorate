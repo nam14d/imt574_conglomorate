{
 "metadata": {
  "language_info": {
   "codemirror_mode": {
    "name": "ipython",
    "version": 3
   },
   "file_extension": ".py",
   "mimetype": "text/x-python",
   "name": "python",
   "nbconvert_exporter": "python",
   "pygments_lexer": "ipython3",
   "version": "3.8.3-final"
  },
  "orig_nbformat": 2,
  "kernelspec": {
   "name": "python3",
   "display_name": "Python 3",
   "language": "python"
  }
 },
 "nbformat": 4,
 "nbformat_minor": 2,
 "cells": [
  {
   "cell_type": "code",
   "execution_count": null,
   "metadata": {},
   "outputs": [],
   "source": [
    "import pandas as pd\n",
    "import numpy as np\n",
    "from sklearn.cluster import KMeans, AgglomerativeClustering\n",
    "from sklearn.preprocessing import StandardScaler\n",
    "import matplotlib.pyplot as plt\n",
    "import scipy.cluster.hierarchy as sch\n",
    "\n",
    "df = pd.read_csv(\"./data/airline-safety.csv\")"
   ]
  },
  {
   "cell_type": "code",
   "execution_count": null,
   "metadata": {},
   "outputs": [],
   "source": [
    "scale = StandardScaler()\n",
    "X = df[['avail_seat_km_per_week','incidents_00_14','fatal_accidents_00_14','fatalities_00_14']]\n",
    "X = pd.DataFrame(scale.fit_transform(X))\n",
    "X.columns = ['avail_seat_km_per_week','incidents_00_14','fatal_accidents_00_14','fatalities_00_14']\n",
    "\n",
    "km = KMeans(n_clusters=2)\n",
    "ymeans = km.fit_predict(X)\n",
    "\n",
    "ag = AgglomerativeClustering(n_clusters=3)\n",
    "y_ag = ag.fit_predict(X)\n"
   ]
  },
  {
   "cell_type": "code",
   "execution_count": null,
   "metadata": {},
   "outputs": [],
   "source": [
    "centroids = km.cluster_centers_\n",
    "\n",
    "#print(ymeans, \"\\n\")\n",
    "#print(centroids, \"\\n\")\n",
    "\n",
    "cluster0 = X[ymeans == 0]\n",
    "cluster1 = X[ymeans == 1]\n",
    "\n",
    "\n",
    "\n",
    "#cluster0AvgIncidents = cluster0['incidents_00_14'].mean()\n",
    "# more incidents\n",
    "#cluster1AvgIncidents = cluster1['incidents_00_14'].mean()\n",
    "\n",
    "#cluster0AvgFatalIncidents = cluster0['fatal_accidents_00_14'].mean()\n",
    "# more fatal incidents\n",
    "#cluster1AvgFatalIncidents = cluster1['fatal_accidents_00_14'].mean()\n",
    "# -0.313\n",
    "#cluster0AvgDeaths = cluster0['fatalities_00_14'].mean()\n",
    "# more fatalities - 1.28\n",
    "#cluster1AvgDeaths = cluster1['fatalities_00_14'].mean()\n",
    "\n",
    "#print(cluster0AvgDeaths)\n",
    "#print(cluster1AvgDeaths)\n",
    "\n",
    "#col = np.where(X['ymeans' == 0], 'blue', 'green')\n",
    "\n",
    "\n",
    "#plt.figure(figsize= (10,10))\n",
    "#plt.title(\"Clusters Based on Recent Incidents and Fatalities\")\n",
    "#plt.scatter(X['incidents_00_14'], X['fatalities_00_14'], c = ymeans)\n",
    "#plt.scatter(centroids[:1], centroids[1:2], c = 'black', s = 100)\n",
    "#plt.xlabel(\"Number of Incidents\")\n",
    "#plt.ylabel(\"Number of Fatalities\")\n",
    "#plt.savefig(\"kmeans_airliners.png\")"
   ]
  },
  {
   "cell_type": "code",
   "execution_count": null,
   "metadata": {},
   "outputs": [],
   "source": [
    "#### Agglomorative Method\n",
    "print(y_ag, \"\\n\")\n",
    "\n",
    "Dendogram = sch.dendrogram((sch.linkage(X, method = 'ward')))\n",
    "plt.savefig(\"dendrogram_airliners.png\")"
   ]
  },
  {
   "cell_type": "code",
   "execution_count": null,
   "metadata": {},
   "outputs": [],
   "source": [
    "scale = StandardScaler()\n",
    "X = df[['avail_seat_km_per_week','incidents_85_99','fatal_accidents_85_99','fatalities_85_99']]\n",
    "X = pd.DataFrame(scale.fit_transform(X))\n",
    "X.columns = ['avail_seat_km_per_week','incidents_85_99','fatal_accidents_85_99','fatalities_85_99']\n",
    "\n",
    "km = KMeans(n_clusters=2)\n",
    "ymeans = km.fit_predict(X)\n",
    "\n",
    "ag = AgglomerativeClustering(n_clusters=3)\n",
    "y_ag = ag.fit_predict(X)\n",
    "\n",
    "\n",
    "plt.figure(figsize= (10,10))\n",
    "plt.title(\"Clusters Based on Old Incidents and Fatalities\")\n",
    "plt.scatter(X['incidents_85_99'], X['fatalities_85_99'], c = ymeans)\n",
    "plt.scatter(centroids[:1], centroids[1:2], c = 'black', s = 100)\n",
    "plt.xlabel(\"Number of Incidents\")\n",
    "plt.ylabel(\"Number of Fatalities\")\n",
    "plt.savefig(\"kmeans_airlinersOld.png\")\n",
    "\n",
    "Dendogram = sch.dendrogram((sch.linkage(X, method = 'ward')))\n",
    "plt.savefig(\"dendrogram_airlinersOld.png\")\n"
   ]
  },
  {
   "cell_type": "code",
   "execution_count": 106,
   "metadata": {},
   "outputs": [
    {
     "output_type": "execute_result",
     "data": {
      "text/plain": [
       "2.9705628438246587"
      ]
     },
     "metadata": {},
     "execution_count": 106
    }
   ],
   "source": [
    "\n",
    "cluster0 = X[ymeans == 0]\n",
    "cluster1 = X[ymeans == 1]\n",
    "\n",
    "\n",
    "cluster0AvgIncidents = cluster0['incidents_85_99'].mean()\n",
    "# more incidents\n",
    "cluster1AvgIncidents = cluster1['incidents_85_99'].mean()\n",
    "\n",
    "cluster0AvgFatalIncidents = cluster0['fatal_accidents_85_99'].mean()\n",
    "# more fatal incidents\n",
    "cluster1AvgFatalIncidents = cluster1['fatal_accidents_85_99'].mean()\n",
    "# -0.313\n",
    "cluster0AvgDeaths = cluster0['fatalities_85_99'].mean()\n",
    "# more fatalities - 1.28\n",
    "cluster1AvgDeaths = cluster1['fatalities_85_99'].mean()\n",
    "\n",
    "X[y_ag == 0]['incidents_85_99'].mean()"
   ]
  },
  {
   "cell_type": "code",
   "execution_count": null,
   "metadata": {},
   "outputs": [],
   "source": []
  }
 ]
}