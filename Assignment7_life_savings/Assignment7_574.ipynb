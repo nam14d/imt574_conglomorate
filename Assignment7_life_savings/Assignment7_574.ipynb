{
 "metadata": {
  "language_info": {
   "codemirror_mode": {
    "name": "ipython",
    "version": 3
   },
   "file_extension": ".py",
   "mimetype": "text/x-python",
   "name": "python",
   "nbconvert_exporter": "python",
   "pygments_lexer": "ipython3",
   "version": "3.8.3"
  },
  "orig_nbformat": 2,
  "kernelspec": {
   "name": "python3",
   "display_name": "Python 3.8.3 64-bit ('base': conda)",
   "metadata": {
    "interpreter": {
     "hash": "dca0ade3e726a953b501b15e8e990130d2b7799f14cfd9f4271676035ebe5511"
    }
   }
  }
 },
 "nbformat": 4,
 "nbformat_minor": 2,
 "cells": [
  {
   "cell_type": "code",
   "execution_count": null,
   "metadata": {},
   "outputs": [],
   "source": [
    "import pandas as pd\n",
    "import numpy as np\n",
    "from sklearn.mixture import GaussianMixture\n",
    "import matplotlib.pyplot as plt\n",
    "import seaborn as sns"
   ]
  },
  {
   "cell_type": "code",
   "execution_count": null,
   "metadata": {},
   "outputs": [],
   "source": [
    "# Importing Data\n",
    "df = pd.read_csv(\"./data/lifecyclesaving.csv\")\n",
    "df = df.drop('Contry', axis = 1)"
   ]
  },
  {
   "cell_type": "code",
   "execution_count": null,
   "metadata": {},
   "outputs": [],
   "source": [
    "# Visual for answer to question 1\n",
    "\n",
    "cl1 = pd.DataFrame(np.random.normal(100, 25, 1000))\n",
    "cl2 = pd.DataFrame(np.random.normal(200, 25, 1000))\n",
    "\n",
    "data = pd.concat((cl1, cl2), axis=0, join='outer')\n",
    "\n",
    "#plt.title(\"Two Gaussian Distributions\")\n",
    "#plt.hist(data, bins=30)\n",
    "#plt.savefig(\"em_usecase.pdf\")\n"
   ]
  },
  {
   "cell_type": "code",
   "execution_count": null,
   "metadata": {},
   "outputs": [],
   "source": [
    "# Expectation Maximization for 1-5 Gaussian Clusters\n",
    "\n",
    "aic = [0] * 10\n",
    "bic = [0] * 10\n",
    "for component in range(10):\n",
    "    em = GaussianMixture(n_components=component+1, max_iter=100, init_params='random')\n",
    "    em.fit(df)\n",
    "    aic[component] = em.aic(df)\n",
    "    bic[component] = em.bic(df)\n",
    "\n",
    "\n",
    "#sns.lineplot(range(1,11), aic, color = 'green')\n",
    "#sns.lineplot(range(1,11), bic, color = 'blue')\n",
    "#plt.title(\"Comparison of AIC and BIC Over Number of Clusters\")\n",
    "#plt.xlabel(\"Number of Components\")\n",
    "#plt.axvline(x = 5, label = \"Suggested Cluster Maximum\")\n",
    "#plt.text(5,1100, '10% of obs', rotation = 270)\n",
    "#plt.ylabel(\"Score\")\n",
    "#plt.savefig(\"GaussianMixtureAssignment7.pdf\")"
   ]
  },
  {
   "cell_type": "code",
   "execution_count": null,
   "metadata": {},
   "outputs": [],
   "source": [
    "em = GaussianMixture(n_components= 3, max_iter=100, init_params='random')\n",
    "em.fit(df)\n",
    "\n",
    "yhat = em.predict(df)\n",
    "yhat"
   ]
  },
  {
   "cell_type": "code",
   "execution_count": null,
   "metadata": {},
   "outputs": [],
   "source": []
  }
 ]
}